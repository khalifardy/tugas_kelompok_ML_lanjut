{
 "cells": [
  {
   "cell_type": "code",
   "execution_count": 29,
   "metadata": {},
   "outputs": [],
   "source": [
    "import pandas as pd\n",
    "import numpy as np\n",
    "from sklearn.model_selection import train_test_split, cross_val_score\n",
    "from sklearn.neighbors import KNeighborsClassifier\n",
    "from sklearn.ensemble import RandomForestClassifier\n",
    "from sklearn.metrics import accuracy_score\n",
    "from sklearn.svm import SVC\n",
    "\n",
    "from niapy.task import Task\n",
    "from niapy.problems import Problem\n",
    "from niapy.algorithms.basic import ParticleSwarmOptimization,GeneticAlgorithm,GreyWolfOptimizer"
   ]
  },
  {
   "cell_type": "code",
   "execution_count": 3,
   "metadata": {},
   "outputs": [
    {
     "data": {
      "text/html": [
       "<div>\n",
       "<style scoped>\n",
       "    .dataframe tbody tr th:only-of-type {\n",
       "        vertical-align: middle;\n",
       "    }\n",
       "\n",
       "    .dataframe tbody tr th {\n",
       "        vertical-align: top;\n",
       "    }\n",
       "\n",
       "    .dataframe thead th {\n",
       "        text-align: right;\n",
       "    }\n",
       "</style>\n",
       "<table border=\"1\" class=\"dataframe\">\n",
       "  <thead>\n",
       "    <tr style=\"text-align: right;\">\n",
       "      <th></th>\n",
       "      <th>mcg</th>\n",
       "      <th>gvh</th>\n",
       "      <th>lip</th>\n",
       "      <th>chg</th>\n",
       "      <th>aac</th>\n",
       "      <th>alm1</th>\n",
       "      <th>alm2</th>\n",
       "      <th>class</th>\n",
       "    </tr>\n",
       "  </thead>\n",
       "  <tbody>\n",
       "    <tr>\n",
       "      <th>0</th>\n",
       "      <td>-0.051761</td>\n",
       "      <td>-1.419531</td>\n",
       "      <td>-0.175142</td>\n",
       "      <td>-0.054636</td>\n",
       "      <td>0.490781</td>\n",
       "      <td>-1.207717</td>\n",
       "      <td>-0.716084</td>\n",
       "      <td>0</td>\n",
       "    </tr>\n",
       "    <tr>\n",
       "      <th>1</th>\n",
       "      <td>-2.212876</td>\n",
       "      <td>-0.675967</td>\n",
       "      <td>-0.175142</td>\n",
       "      <td>-0.054636</td>\n",
       "      <td>0.327106</td>\n",
       "      <td>-0.697111</td>\n",
       "      <td>-0.285665</td>\n",
       "      <td>0</td>\n",
       "    </tr>\n",
       "    <tr>\n",
       "      <th>2</th>\n",
       "      <td>0.308424</td>\n",
       "      <td>-0.675967</td>\n",
       "      <td>-0.175142</td>\n",
       "      <td>-0.054636</td>\n",
       "      <td>-0.082081</td>\n",
       "      <td>-0.604273</td>\n",
       "      <td>-0.190016</td>\n",
       "      <td>0</td>\n",
       "    </tr>\n",
       "    <tr>\n",
       "      <th>3</th>\n",
       "      <td>0.462790</td>\n",
       "      <td>-0.067597</td>\n",
       "      <td>-0.175142</td>\n",
       "      <td>-0.054636</td>\n",
       "      <td>0.163431</td>\n",
       "      <td>-0.232923</td>\n",
       "      <td>-0.668259</td>\n",
       "      <td>0</td>\n",
       "    </tr>\n",
       "    <tr>\n",
       "      <th>4</th>\n",
       "      <td>-1.389594</td>\n",
       "      <td>-1.216741</td>\n",
       "      <td>-0.175142</td>\n",
       "      <td>-0.054636</td>\n",
       "      <td>0.408944</td>\n",
       "      <td>-1.161299</td>\n",
       "      <td>-0.716084</td>\n",
       "      <td>0</td>\n",
       "    </tr>\n",
       "  </tbody>\n",
       "</table>\n",
       "</div>"
      ],
      "text/plain": [
       "        mcg       gvh       lip       chg       aac      alm1      alm2  class\n",
       "0 -0.051761 -1.419531 -0.175142 -0.054636  0.490781 -1.207717 -0.716084      0\n",
       "1 -2.212876 -0.675967 -0.175142 -0.054636  0.327106 -0.697111 -0.285665      0\n",
       "2  0.308424 -0.675967 -0.175142 -0.054636 -0.082081 -0.604273 -0.190016      0\n",
       "3  0.462790 -0.067597 -0.175142 -0.054636  0.163431 -0.232923 -0.668259      0\n",
       "4 -1.389594 -1.216741 -0.175142 -0.054636  0.408944 -1.161299 -0.716084      0"
      ]
     },
     "execution_count": 3,
     "metadata": {},
     "output_type": "execute_result"
    }
   ],
   "source": [
    "df = pd.read_csv('dataset/dataset_39_ecoli_standard.csv')\n",
    "df.head()"
   ]
  },
  {
   "cell_type": "code",
   "execution_count": 4,
   "metadata": {},
   "outputs": [],
   "source": [
    "Y = df['class'].to_numpy()\n",
    "X = df[df.columns[:7]].to_numpy()"
   ]
  },
  {
   "cell_type": "code",
   "execution_count": 5,
   "metadata": {},
   "outputs": [],
   "source": [
    "x_train,x_test,y_train,y_test = train_test_split(X,Y,test_size=0.3,random_state=22)"
   ]
  },
  {
   "cell_type": "code",
   "execution_count": 10,
   "metadata": {},
   "outputs": [],
   "source": [
    "#Optimiaation hyperparameter Random Forest\n",
    "\n",
    "class RandomForestOptimization(Problem):\n",
    "    def __init__(self):\n",
    "        super().__init__(dimension=2,lower=[10,1], upper=[200,50])\n",
    "    \n",
    "    def _evaluate(self, solution):\n",
    "        n_estimators = int(solution[0])\n",
    "        max_depth = int(solution[1])\n",
    "        \n",
    "        model = RandomForestClassifier(n_estimators=n_estimators, max_depth=max_depth)\n",
    "        scores = cross_val_score(model, x_train, y_train, cv=2)\n",
    "        score = np.mean(scores)\n",
    "        return score"
   ]
  },
  {
   "cell_type": "code",
   "execution_count": 13,
   "metadata": {},
   "outputs": [
    {
     "name": "stdout",
     "output_type": "stream",
     "text": [
      "hyperparameter terbaik : [10.  1.]\n",
      "akurasi terbaik :0.5104664638562944\n"
     ]
    }
   ],
   "source": [
    "#run oprimization RF with pSO\n",
    "\n",
    "task = Task(problem=RandomForestOptimization(), max_evals=100)\n",
    "pso = ParticleSwarmOptimization()\n",
    "best = pso.run(task)\n",
    "\n",
    "print(f'hyperparameter terbaik : {best[0]}')\n",
    "print(f'akurasi terbaik :{best[1]}')"
   ]
  },
  {
   "cell_type": "code",
   "execution_count": 16,
   "metadata": {},
   "outputs": [
    {
     "name": "stdout",
     "output_type": "stream",
     "text": [
      "hyperparameter terbaik : [28.27570369  1.46689413]\n",
      "akurasi terbaik :0.6212516297262061\n"
     ]
    }
   ],
   "source": [
    "#run oprimization RF with Genetic Algorithm\n",
    "\n",
    "task = Task(problem=RandomForestOptimization(), max_evals=100)\n",
    "ga = GeneticAlgorithm()\n",
    "best = ga.run(task)\n",
    "\n",
    "print(f'hyperparameter terbaik : {best[0]}')\n",
    "print(f'akurasi terbaik :{best[1]}')"
   ]
  },
  {
   "cell_type": "code",
   "execution_count": 18,
   "metadata": {},
   "outputs": [
    {
     "name": "stdout",
     "output_type": "stream",
     "text": [
      "hyperparameter terbaik : [52.88220032  1.        ]\n",
      "akurasi terbaik :0.6085759814573374\n"
     ]
    }
   ],
   "source": [
    "#run oprimization with Grey Wolf Optimization\n",
    "task = Task(problem=RandomForestOptimization(), max_evals=100)\n",
    "gwo = GreyWolfOptimizer()\n",
    "best = gwo.run(task)\n",
    "\n",
    "print(f'hyperparameter terbaik : {best[0]}')\n",
    "print(f'akurasi terbaik :{best[1]}')"
   ]
  },
  {
   "cell_type": "code",
   "execution_count": 19,
   "metadata": {},
   "outputs": [],
   "source": [
    "class KNNOptimizer(Problem):\n",
    "    def __init__(self):\n",
    "        super().__init__(dimension=2,lower=[1,1], upper=[50,5])\n",
    "    \n",
    "    def _evaluate(self, solution):\n",
    "        n_neighbors = int(solution[0])\n",
    "        p = int(solution[1])\n",
    "        \n",
    "        model = KNeighborsClassifier(n_neighbors=n_neighbors,p=p)\n",
    "        scores = cross_val_score(model, x_train, y_train, cv=2)\n",
    "        score = np.mean(scores)\n",
    "        return score"
   ]
  },
  {
   "cell_type": "code",
   "execution_count": 20,
   "metadata": {},
   "outputs": [
    {
     "name": "stdout",
     "output_type": "stream",
     "text": [
      "hyperparameter terbaik : [50.  5.]\n",
      "akurasi terbaik :0.6084311169056932\n"
     ]
    }
   ],
   "source": [
    "#run oprimization KNN with pSO\n",
    "\n",
    "task = Task(problem=KNNOptimizer(), max_evals=100)\n",
    "pso = ParticleSwarmOptimization()\n",
    "best = pso.run(task)\n",
    "\n",
    "print(f'hyperparameter terbaik : {best[0]}')\n",
    "print(f'akurasi terbaik :{best[1]}')"
   ]
  },
  {
   "cell_type": "code",
   "execution_count": 21,
   "metadata": {},
   "outputs": [
    {
     "name": "stdout",
     "output_type": "stream",
     "text": [
      "hyperparameter terbaik : [47.7355851  3.5500707]\n",
      "akurasi terbaik :0.6169056931768796\n"
     ]
    }
   ],
   "source": [
    "#run oprimization KNN with Genetic Algorithm\n",
    "\n",
    "task = Task(problem=KNNOptimizer(), max_evals=100)\n",
    "ga = GeneticAlgorithm()\n",
    "best = ga.run(task)\n",
    "\n",
    "print(f'hyperparameter terbaik : {best[0]}')\n",
    "print(f'akurasi terbaik :{best[1]}')"
   ]
  },
  {
   "cell_type": "code",
   "execution_count": 22,
   "metadata": {},
   "outputs": [
    {
     "name": "stdout",
     "output_type": "stream",
     "text": [
      "hyperparameter terbaik : [50.          4.30933117]\n",
      "akurasi terbaik :0.6126684050412864\n"
     ]
    }
   ],
   "source": [
    "#run oprimization KNN with Grey Wolf Optimization\n",
    "task = Task(problem=KNNOptimizer(), max_evals=100)\n",
    "gwo = GreyWolfOptimizer()\n",
    "best = gwo.run(task)\n",
    "\n",
    "print(f'hyperparameter terbaik : {best[0]}')\n",
    "print(f'akurasi terbaik :{best[1]}')"
   ]
  },
  {
   "cell_type": "code",
   "execution_count": 40,
   "metadata": {},
   "outputs": [],
   "source": [
    "class SVMOptimizer(Problem):\n",
    "    def __init__(self):\n",
    "        super().__init__(dimension=2,lower=[1,1], upper=[12,12])\n",
    "    \n",
    "    def _evaluate(self, solution):\n",
    "        C = float(solution[0])\n",
    "        gamma = float(solution[1])\n",
    "        \n",
    "        model = SVC(C=C,gamma=gamma)\n",
    "        scores = cross_val_score(model, x_train, y_train, cv=2)\n",
    "        score = np.mean(scores)\n",
    "        return score"
   ]
  },
  {
   "cell_type": "code",
   "execution_count": 41,
   "metadata": {},
   "outputs": [
    {
     "name": "stdout",
     "output_type": "stream",
     "text": [
      "hyperparameter terbaik : [10.94420114 11.4709871 ]\n",
      "akurasi terbaik :0.4553092858177604\n"
     ]
    }
   ],
   "source": [
    "#run oprimization SVM with pSO\n",
    "\n",
    "task = Task(problem=SVMOptimizer(), max_evals=100)\n",
    "pso = ParticleSwarmOptimization()\n",
    "best = pso.run(task)\n",
    "\n",
    "print(f'hyperparameter terbaik : {best[0]}')\n",
    "print(f'akurasi terbaik :{best[1]}')"
   ]
  },
  {
   "cell_type": "code",
   "execution_count": 42,
   "metadata": {},
   "outputs": [
    {
     "name": "stdout",
     "output_type": "stream",
     "text": [
      "hyperparameter terbaik : [10.79698985 11.60503457]\n",
      "akurasi terbaik :0.4553092858177604\n"
     ]
    }
   ],
   "source": [
    "#run oprimization SVM with Genetic Algorithm\n",
    "\n",
    "task = Task(problem=SVMOptimizer(), max_evals=100)\n",
    "ga = GeneticAlgorithm()\n",
    "best = ga.run(task)\n",
    "\n",
    "print(f'hyperparameter terbaik : {best[0]}')\n",
    "print(f'akurasi terbaik :{best[1]}')"
   ]
  },
  {
   "cell_type": "code",
   "execution_count": 43,
   "metadata": {},
   "outputs": [
    {
     "name": "stdout",
     "output_type": "stream",
     "text": [
      "hyperparameter terbaik : [ 6.46716309 10.70340996]\n",
      "akurasi terbaik :0.4553092858177604\n"
     ]
    }
   ],
   "source": [
    "#run oprimization SVM with Grey Wolf Optimization\n",
    "task = Task(problem=SVMOptimizer(), max_evals=100)\n",
    "gwo = GreyWolfOptimizer()\n",
    "best = gwo.run(task)\n",
    "\n",
    "print(f'hyperparameter terbaik : {best[0]}')\n",
    "print(f'akurasi terbaik :{best[1]}')"
   ]
  }
 ],
 "metadata": {
  "kernelspec": {
   "display_name": ".env",
   "language": "python",
   "name": "python3"
  },
  "language_info": {
   "codemirror_mode": {
    "name": "ipython",
    "version": 3
   },
   "file_extension": ".py",
   "mimetype": "text/x-python",
   "name": "python",
   "nbconvert_exporter": "python",
   "pygments_lexer": "ipython3",
   "version": "3.12.3"
  }
 },
 "nbformat": 4,
 "nbformat_minor": 2
}
